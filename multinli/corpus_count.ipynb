{
 "cells": [
  {
   "cell_type": "code",
   "execution_count": 3,
   "metadata": {},
   "outputs": [],
   "source": [
    "import pandas as pd"
   ]
  },
  {
   "cell_type": "code",
   "execution_count": 6,
   "metadata": {},
   "outputs": [],
   "source": [
    "#name_tes = 'SICK_test_annotated.txt'\n",
    "name_tra = 'multinli.train.pt.tsv'"
   ]
  },
  {
   "cell_type": "code",
   "execution_count": 9,
   "metadata": {},
   "outputs": [
    {
     "name": "stderr",
     "output_type": "stream",
     "text": [
      "b'Skipping line 3564: expected 3 fields, saw 4\\nSkipping line 4896: expected 3 fields, saw 4\\nSkipping line 10687: expected 3 fields, saw 4\\nSkipping line 11154: expected 3 fields, saw 4\\nSkipping line 13808: expected 3 fields, saw 4\\nSkipping line 15117: expected 3 fields, saw 4\\nSkipping line 16257: expected 3 fields, saw 4\\nSkipping line 18341: expected 3 fields, saw 4\\nSkipping line 18641: expected 3 fields, saw 4\\nSkipping line 18931: expected 3 fields, saw 4\\nSkipping line 19212: expected 3 fields, saw 4\\nSkipping line 19902: expected 3 fields, saw 4\\nSkipping line 22799: expected 3 fields, saw 4\\nSkipping line 22845: expected 3 fields, saw 4\\nSkipping line 24739: expected 3 fields, saw 4\\nSkipping line 25580: expected 3 fields, saw 4\\n'\n"
     ]
    }
   ],
   "source": [
    "train = pd.read_csv(name_tra, sep='\\t', error_bad_lines=False)\n",
    "#test = pd.read_csv(name_tes, sep='\\t')"
   ]
  },
  {
   "cell_type": "code",
   "execution_count": 10,
   "metadata": {},
   "outputs": [
    {
     "data": {
      "text/plain": [
       "(26971, 3)"
      ]
     },
     "execution_count": 10,
     "metadata": {},
     "output_type": "execute_result"
    }
   ],
   "source": [
    "train.shape"
   ]
  },
  {
   "cell_type": "code",
   "execution_count": 11,
   "metadata": {},
   "outputs": [],
   "source": [
    "#test.shape"
   ]
  },
  {
   "cell_type": "code",
   "execution_count": 18,
   "metadata": {},
   "outputs": [
    {
     "data": {
      "text/html": [
       "<div>\n",
       "<style scoped>\n",
       "    .dataframe tbody tr th:only-of-type {\n",
       "        vertical-align: middle;\n",
       "    }\n",
       "\n",
       "    .dataframe tbody tr th {\n",
       "        vertical-align: top;\n",
       "    }\n",
       "\n",
       "    .dataframe thead th {\n",
       "        text-align: right;\n",
       "    }\n",
       "</style>\n",
       "<table border=\"1\" class=\"dataframe\">\n",
       "  <thead>\n",
       "    <tr style=\"text-align: right;\">\n",
       "      <th></th>\n",
       "      <th>premise</th>\n",
       "      <th>hypo</th>\n",
       "    </tr>\n",
       "    <tr>\n",
       "      <th>label</th>\n",
       "      <th></th>\n",
       "      <th></th>\n",
       "    </tr>\n",
       "  </thead>\n",
       "  <tbody>\n",
       "    <tr>\n",
       "      <td>Entailment</td>\n",
       "      <td>10748</td>\n",
       "      <td>10747</td>\n",
       "    </tr>\n",
       "    <tr>\n",
       "      <td>None</td>\n",
       "      <td>13257</td>\n",
       "      <td>13256</td>\n",
       "    </tr>\n",
       "    <tr>\n",
       "      <td>Paraphrase</td>\n",
       "      <td>2944</td>\n",
       "      <td>2944</td>\n",
       "    </tr>\n",
       "  </tbody>\n",
       "</table>\n",
       "</div>"
      ],
      "text/plain": [
       "            premise   hypo\n",
       "label                     \n",
       "Entailment    10748  10747\n",
       "None          13257  13256\n",
       "Paraphrase     2944   2944"
      ]
     },
     "execution_count": 18,
     "metadata": {},
     "output_type": "execute_result"
    }
   ],
   "source": [
    "train.groupby('label').count()"
   ]
  },
  {
   "cell_type": "code",
   "execution_count": 13,
   "metadata": {},
   "outputs": [
    {
     "data": {
      "text/plain": [
       "premise    0\n",
       "hypo       0\n",
       "label      0\n",
       "dtype: int64"
      ]
     },
     "execution_count": 13,
     "metadata": {},
     "output_type": "execute_result"
    }
   ],
   "source": [
    "train[train['label']=='contradiction'].count()"
   ]
  },
  {
   "cell_type": "code",
   "execution_count": 26,
   "metadata": {},
   "outputs": [
    {
     "data": {
      "text/plain": [
       "pair_ID                720\n",
       "sentence_A             720\n",
       "sentence_B             720\n",
       "relatedness_score      720\n",
       "entailment_judgment    720\n",
       "dtype: int64"
      ]
     },
     "execution_count": 26,
     "metadata": {},
     "output_type": "execute_result"
    }
   ],
   "source": [
    "#test[test['entailment_judgment']=='CONTRADICTION'].count()"
   ]
  },
  {
   "cell_type": "code",
   "execution_count": 27,
   "metadata": {},
   "outputs": [
    {
     "name": "stdout",
     "output_type": "stream",
     "text": [
      "1385\n"
     ]
    }
   ],
   "source": [
    "a = 720+665\n",
    "print(a)"
   ]
  },
  {
   "cell_type": "code",
   "execution_count": 28,
   "metadata": {},
   "outputs": [
    {
     "name": "stdout",
     "output_type": "stream",
     "text": [
      "9427\n"
     ]
    }
   ],
   "source": [
    "total = test.shape[0] + train.shape[0]\n",
    "print(total)"
   ]
  },
  {
   "cell_type": "code",
   "execution_count": 29,
   "metadata": {},
   "outputs": [
    {
     "name": "stdout",
     "output_type": "stream",
     "text": [
      "8042\n"
     ]
    }
   ],
   "source": [
    "print(total-a)"
   ]
  },
  {
   "cell_type": "code",
   "execution_count": 31,
   "metadata": {},
   "outputs": [
    {
     "name": "stdout",
     "output_type": "stream",
     "text": [
      "3780\n"
     ]
    }
   ],
   "source": [
    "print(train.shape[0]-720)"
   ]
  },
  {
   "cell_type": "code",
   "execution_count": null,
   "metadata": {},
   "outputs": [],
   "source": []
  }
 ],
 "metadata": {
  "kernelspec": {
   "display_name": "Python 3",
   "language": "python",
   "name": "python3"
  },
  "language_info": {
   "codemirror_mode": {
    "name": "ipython",
    "version": 3
   },
   "file_extension": ".py",
   "mimetype": "text/x-python",
   "name": "python",
   "nbconvert_exporter": "python",
   "pygments_lexer": "ipython3",
   "version": "3.6.9"
  }
 },
 "nbformat": 4,
 "nbformat_minor": 2
}
