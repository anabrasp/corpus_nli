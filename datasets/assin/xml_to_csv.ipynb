{
 "cells": [
  {
   "cell_type": "code",
   "execution_count": 2,
   "metadata": {},
   "outputs": [],
   "source": [
    "from xml.etree import ElementTree\n",
    "import pandas as pd\n",
    "#f_name = 'assin-ptbr-dev.xml'\n",
    "#tree = ElementTree.parse(f_name)\n",
    "root = tree.getroot()"
   ]
  },
  {
   "cell_type": "code",
   "execution_count": 4,
   "metadata": {},
   "outputs": [
    {
     "name": "stdout",
     "output_type": "stream",
     "text": [
      "assin-ptbr-dev.xml\n",
      "assin-ptbr-test.xml\n",
      "assin-ptbr-train.xml\n",
      "assin-ptpt-dev.xml\n",
      "assin-ptpt-test.xml\n",
      "assin-ptpt-train.xml\n"
     ]
    }
   ],
   "source": [
    "f_names = ['assin-ptbr-dev.xml', 'assin-ptbr-test.xml', 'assin-ptbr-train.xml', \n",
    "           'assin-ptpt-dev.xml', 'assin-ptpt-test.xml', 'assin-ptpt-train.xml']\n",
    "\n",
    "for f_name in f_names:\n",
    "    print(f_name)\n",
    "    tree = ElementTree.parse(f_name)\n",
    "    root = tree.getroot()\n",
    "    \n",
    "    mylist = []\n",
    "    for child in root:\n",
    "        #print (child.tag, child.attrib)\n",
    "        gold_label = child.attrib['entailment']\n",
    "        for t in child.iter('t'):\n",
    "            sentence1 = t.text\n",
    "        #print(t.tag, t.text)\n",
    "        for h in child.iter('h'):\n",
    "            sentence2 = h.text\n",
    "        #print(h.tag, h.text)\n",
    "    #print(gold_label)\n",
    "    #print(sentence1)\n",
    "    #print(sentence2)\n",
    "        mylist.append([sentence1,sentence2,gold_label])\n",
    "    \n",
    "        data = pd.DataFrame(mylist, columns = ['sentence1', 'sentence2', 'gold_label'])\n",
    "    \n",
    "        data.to_csv(f_name[:-4]+'.csv',index=False)"
   ]
  },
  {
   "cell_type": "code",
   "execution_count": 56,
   "metadata": {},
   "outputs": [],
   "source": [
    "import pandas as pd\n",
    "data = pd.DataFrame(mylist, columns = ['sentence1', 'sentence2', 'gold_label'])"
   ]
  },
  {
   "cell_type": "code",
   "execution_count": 57,
   "metadata": {},
   "outputs": [
    {
     "data": {
      "text/html": [
       "<div>\n",
       "<style scoped>\n",
       "    .dataframe tbody tr th:only-of-type {\n",
       "        vertical-align: middle;\n",
       "    }\n",
       "\n",
       "    .dataframe tbody tr th {\n",
       "        vertical-align: top;\n",
       "    }\n",
       "\n",
       "    .dataframe thead th {\n",
       "        text-align: right;\n",
       "    }\n",
       "</style>\n",
       "<table border=\"1\" class=\"dataframe\">\n",
       "  <thead>\n",
       "    <tr style=\"text-align: right;\">\n",
       "      <th></th>\n",
       "      <th>sentence1</th>\n",
       "      <th>sentence2</th>\n",
       "      <th>gold_label</th>\n",
       "    </tr>\n",
       "  </thead>\n",
       "  <tbody>\n",
       "    <tr>\n",
       "      <td>0</td>\n",
       "      <td>De acordo com o relatório, foram notificados 6...</td>\n",
       "      <td>Do total de casos notificados, 10.768 foram co...</td>\n",
       "      <td>None</td>\n",
       "    </tr>\n",
       "    <tr>\n",
       "      <td>1</td>\n",
       "      <td>Seu irmão George é o terceiro na linha sucessó...</td>\n",
       "      <td>Charlotte é a quarta na linha de sucessão da c...</td>\n",
       "      <td>None</td>\n",
       "    </tr>\n",
       "    <tr>\n",
       "      <td>2</td>\n",
       "      <td>Em Campinas, no interior do estado, já são mai...</td>\n",
       "      <td>São 333 municípios com notificações da doença ...</td>\n",
       "      <td>None</td>\n",
       "    </tr>\n",
       "    <tr>\n",
       "      <td>3</td>\n",
       "      <td>A estreia do Brasil na Copa América está marca...</td>\n",
       "      <td>O time estreia na Copa América contra o Peru.</td>\n",
       "      <td>Entailment</td>\n",
       "    </tr>\n",
       "    <tr>\n",
       "      <td>4</td>\n",
       "      <td>Funcionamento normal, lojas e praça de aliment...</td>\n",
       "      <td>Já na segunda-feira do feriado, o shopping abr...</td>\n",
       "      <td>None</td>\n",
       "    </tr>\n",
       "    <tr>\n",
       "      <td>...</td>\n",
       "      <td>...</td>\n",
       "      <td>...</td>\n",
       "      <td>...</td>\n",
       "    </tr>\n",
       "    <tr>\n",
       "      <td>495</td>\n",
       "      <td>A Pepsi acaba de confirmar a produção de seu p...</td>\n",
       "      <td>Teremos um smartphone criado pela grande empre...</td>\n",
       "      <td>Entailment</td>\n",
       "    </tr>\n",
       "    <tr>\n",
       "      <td>496</td>\n",
       "      <td>Neymar foi para cobrança e marcou, mesmo com S...</td>\n",
       "      <td>No entanto, os grandes nomes da partida foram ...</td>\n",
       "      <td>None</td>\n",
       "    </tr>\n",
       "    <tr>\n",
       "      <td>497</td>\n",
       "      <td>O sistema operacional usado no aparelho deverá...</td>\n",
       "      <td>Provavelmente o sistema operacional do aparelh...</td>\n",
       "      <td>Paraphrase</td>\n",
       "    </tr>\n",
       "    <tr>\n",
       "      <td>498</td>\n",
       "      <td>Mesmo dominada no jogo, a Sérvia abriu o placa...</td>\n",
       "      <td>Aos 24 minutos do segundo tempo, Mandic abriu ...</td>\n",
       "      <td>None</td>\n",
       "    </tr>\n",
       "    <tr>\n",
       "      <td>499</td>\n",
       "      <td>O sorteio será realizado nesta quarta-feira (2...</td>\n",
       "      <td>O sorteio será realizado a partir das 20 horas...</td>\n",
       "      <td>None</td>\n",
       "    </tr>\n",
       "  </tbody>\n",
       "</table>\n",
       "<p>500 rows × 3 columns</p>\n",
       "</div>"
      ],
      "text/plain": [
       "                                             sentence1  \\\n",
       "0    De acordo com o relatório, foram notificados 6...   \n",
       "1    Seu irmão George é o terceiro na linha sucessó...   \n",
       "2    Em Campinas, no interior do estado, já são mai...   \n",
       "3    A estreia do Brasil na Copa América está marca...   \n",
       "4    Funcionamento normal, lojas e praça de aliment...   \n",
       "..                                                 ...   \n",
       "495  A Pepsi acaba de confirmar a produção de seu p...   \n",
       "496  Neymar foi para cobrança e marcou, mesmo com S...   \n",
       "497  O sistema operacional usado no aparelho deverá...   \n",
       "498  Mesmo dominada no jogo, a Sérvia abriu o placa...   \n",
       "499  O sorteio será realizado nesta quarta-feira (2...   \n",
       "\n",
       "                                             sentence2  gold_label  \n",
       "0    Do total de casos notificados, 10.768 foram co...        None  \n",
       "1    Charlotte é a quarta na linha de sucessão da c...        None  \n",
       "2    São 333 municípios com notificações da doença ...        None  \n",
       "3        O time estreia na Copa América contra o Peru.  Entailment  \n",
       "4    Já na segunda-feira do feriado, o shopping abr...        None  \n",
       "..                                                 ...         ...  \n",
       "495  Teremos um smartphone criado pela grande empre...  Entailment  \n",
       "496  No entanto, os grandes nomes da partida foram ...        None  \n",
       "497  Provavelmente o sistema operacional do aparelh...  Paraphrase  \n",
       "498  Aos 24 minutos do segundo tempo, Mandic abriu ...        None  \n",
       "499  O sorteio será realizado a partir das 20 horas...        None  \n",
       "\n",
       "[500 rows x 3 columns]"
      ]
     },
     "execution_count": 57,
     "metadata": {},
     "output_type": "execute_result"
    }
   ],
   "source": [
    "data"
   ]
  },
  {
   "cell_type": "code",
   "execution_count": 59,
   "metadata": {},
   "outputs": [],
   "source": [
    "data_csv = data.to_csv('testinho.csv',index=False)"
   ]
  },
  {
   "cell_type": "code",
   "execution_count": null,
   "metadata": {},
   "outputs": [],
   "source": []
  }
 ],
 "metadata": {
  "kernelspec": {
   "display_name": "Python 3",
   "language": "python",
   "name": "python3"
  },
  "language_info": {
   "codemirror_mode": {
    "name": "ipython",
    "version": 3
   },
   "file_extension": ".py",
   "mimetype": "text/x-python",
   "name": "python",
   "nbconvert_exporter": "python",
   "pygments_lexer": "ipython3",
   "version": "3.6.9"
  }
 },
 "nbformat": 4,
 "nbformat_minor": 4
}
